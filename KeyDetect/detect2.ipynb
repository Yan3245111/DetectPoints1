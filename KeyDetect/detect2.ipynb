{
 "cells": [
  {
   "cell_type": "code",
   "execution_count": null,
   "id": "7670155f",
   "metadata": {},
   "outputs": [],
   "source": [
    "import ctypes\n",
    "import time\n",
    "\n",
    "# Windows API 函数\n",
    "GetAsyncKeyState = ctypes.windll.user32.GetAsyncKeyState\n",
    "\n",
    "while True:\n",
    "    for key_code in range(8, 256):\n",
    "        if GetAsyncKeyState(key_code) & 0x8000:\n",
    "            print(f\"按下: keycode {key_code}\")\n",
    "    time.sleep(0.01)\n"
   ]
  },
  {
   "cell_type": "code",
   "execution_count": null,
   "id": "df37bee5",
   "metadata": {},
   "outputs": [],
   "source": [
    "import struct\n",
    "\n",
    "# LINUX\n",
    "event_file = '/dev/input/event3'  # 根据你的键盘设备修改\n",
    "\n",
    "with open(event_file, 'rb') as f:\n",
    "    while True:\n",
    "        data = f.read(24)  # 每个输入事件是 24 字节\n",
    "        (_, _, _, code, value) = struct.unpack('qqHHI', data)\n",
    "\n",
    "        # value = 1: 按下, 0: 释放, 2: 保持\n",
    "        if value == 1:\n",
    "            print(f\"按下了 key code: {code}\")\n",
    "        elif value == 0:\n",
    "            print(f\"释放了 key code: {code}\")\n"
   ]
  }
 ],
 "metadata": {
  "language_info": {
   "name": "python"
  }
 },
 "nbformat": 4,
 "nbformat_minor": 5
}
