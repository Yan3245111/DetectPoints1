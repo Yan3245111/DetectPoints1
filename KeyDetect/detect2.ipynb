{
 "cells": [
  {
   "cell_type": "code",
   "execution_count": null,
   "id": "7670155f",
   "metadata": {},
   "outputs": [
    {
     "ename": "KeyboardInterrupt",
     "evalue": "",
     "output_type": "error",
     "traceback": [
      "\u001b[1;31m---------------------------------------------------------------------------\u001b[0m",
      "\u001b[1;31mKeyboardInterrupt\u001b[0m                         Traceback (most recent call last)",
      "Cell \u001b[1;32mIn[3], line 11\u001b[0m\n\u001b[0;32m      9\u001b[0m     \u001b[38;5;28;01mif\u001b[39;00m GetAsyncKeyState(\u001b[38;5;241m66\u001b[39m) \u001b[38;5;241m&\u001b[39m \u001b[38;5;241m0x8000\u001b[39m:\n\u001b[0;32m     10\u001b[0m         \u001b[38;5;28mprint\u001b[39m(\u001b[38;5;124mf\u001b[39m\u001b[38;5;124m\"\u001b[39m\u001b[38;5;124m按下: keycode \u001b[39m\u001b[38;5;132;01m{\u001b[39;00mkey_code\u001b[38;5;132;01m}\u001b[39;00m\u001b[38;5;124m\"\u001b[39m)\n\u001b[1;32m---> 11\u001b[0m \u001b[43mtime\u001b[49m\u001b[38;5;241;43m.\u001b[39;49m\u001b[43msleep\u001b[49m\u001b[43m(\u001b[49m\u001b[38;5;241;43m1\u001b[39;49m\u001b[43m)\u001b[49m\n",
      "\u001b[1;31mKeyboardInterrupt\u001b[0m: "
     ]
    }
   ],
   "source": [
    "import ctypes\n",
    "import time\n",
    "\n",
    "# Windows API 函数\n",
    "GetAsyncKeyState = ctypes.windll.user32.GetAsyncKeyState\n",
    "\n",
    "while True:\n",
    "    for key_code in range(8, 256):\n",
    "        if GetAsyncKeyState(key_code) & 0x8000:\n",
    "            print(f\"按下: keycode {key_code}\")\n",
    "    time.sleep(1)\n"
   ]
  },
  {
   "cell_type": "code",
   "execution_count": null,
   "id": "df37bee5",
   "metadata": {},
   "outputs": [],
   "source": [
    "import struct\n",
    "\n",
    "# LINUX\n",
    "event_file = '/dev/input/event3'  # 根据你的键盘设备修改\n",
    "\n",
    "with open(event_file, 'rb') as f:\n",
    "    while True:\n",
    "        data = f.read(24)  # 每个输入事件是 24 字节\n",
    "        (_, _, _, code, value) = struct.unpack('qqHHI', data)\n",
    "\n",
    "        # value = 1: 按下, 0: 释放, 2: 保持\n",
    "        if value == 1:\n",
    "            print(f\"按下了 key code: {code}\")\n",
    "        elif value == 0:\n",
    "            print(f\"释放了 key code: {code}\")\n"
   ]
  }
 ],
 "metadata": {
  "kernelspec": {
   "display_name": "spine",
   "language": "python",
   "name": "python3"
  },
  "language_info": {
   "codemirror_mode": {
    "name": "ipython",
    "version": 3
   },
   "file_extension": ".py",
   "mimetype": "text/x-python",
   "name": "python",
   "nbconvert_exporter": "python",
   "pygments_lexer": "ipython3",
   "version": "3.8.12"
  }
 },
 "nbformat": 4,
 "nbformat_minor": 5
}
