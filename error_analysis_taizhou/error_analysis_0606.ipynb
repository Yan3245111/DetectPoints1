{
 "cells": [
  {
   "cell_type": "code",
   "execution_count": 1,
   "id": "f44eb9c7",
   "metadata": {},
   "outputs": [
    {
     "name": "stdout",
     "output_type": "stream",
     "text": [
      "[Taichi] version 1.7.3, llvm 15.0.1, commit 5ec301be, win, python 3.8.10\n",
      "[Taichi] Starting on arch=x64\n"
     ]
    }
   ],
   "source": [
    "import os\n",
    "from glob import glob\n",
    "import numpy as np\n",
    "import sys\n",
    "import pydicom\n",
    "project_root = os.path.abspath(os.path.join(os.getcwd(), '..'))\n",
    "if project_root not in sys.path:\n",
    "    sys.path.append(project_root)\n",
    "\n",
    "# from FindPoints.detect_points import detect_spheres_from_dicom\n",
    "from detect_balls import detect_spheres_from_dicom\n",
    "from cal_math import rigidTransform3D, transform3d, match_balls_by_geometry, Q2M\n",
    "from plan_rom_data import plan_ball, plan_robot, plan_body, rom_body, rom_robot"
   ]
  },
  {
   "cell_type": "code",
   "execution_count": 2,
   "id": "43d6abea",
   "metadata": {},
   "outputs": [
    {
     "data": {
      "text/plain": [
       "(array([-0.6468745 , -0.30262412,  0.69998002]),\n",
       " array([52.04973873, -3.54322393,  7.67786135]))"
      ]
     },
     "execution_count": 2,
     "metadata": {},
     "output_type": "execute_result"
    }
   ],
   "source": [
    "# 针尖法向量计算\n",
    "rom_plane_robot_mat, _=rigidTransform3D(plan_robot[:4].T, rom_robot.T)  # 模型到rom的变换矩阵\n",
    "# print(transform3d(plan_robot[:4], rom_plane_robot_mat))\n",
    "# print(np.linalg.norm(transform3d(plan_robot[:4],rom_plane_robot_mat)-rom_robot,axis=1))  # 光球模型在rom下的位置和误差\n",
    "r_pos = transform3d(plan_robot[4:],rom_plane_robot_mat)\n",
    "r_plan_dis = r_pos[0] - r_pos[1]\n",
    "tail_x = r_plan_dis / np.linalg.norm(r_plan_dis)\n",
    "tail_p = r_pos[0]\n",
    "tail_x, tail_p"
   ]
  },
  {
   "cell_type": "code",
   "execution_count": 3,
   "id": "445dec72",
   "metadata": {},
   "outputs": [],
   "source": [
    "def find_ct_ball(dicom_folder):\n",
    "    dicom_paths = glob(os.path.join(dicom_folder, \"*.dcm\"))\n",
    "    dicom_files = [pydicom.dcmread(path) for path in dicom_paths] \n",
    "    def get_z_position(dcm):\n",
    "        if hasattr(dcm, 'SliceLocation'):\n",
    "            # print(\"paixun 1\")\n",
    "            return float(dcm.SliceLocation)  # 优先使用 SliceLocation\n",
    "        elif hasattr(dcm, 'ImagePositionPatient'):\n",
    "            # print(\"paixun 2\")\n",
    "            return float(dcm.ImagePositionPatient[2])  # 否则使用 ImagePositionPatient 的 z 分量\n",
    "        else:\n",
    "            # print(\"paixun 3\")\n",
    "            return 0  # 如果没有 z 信息，默认 0\n",
    "    dicom_files.sort(key=get_z_position)\n",
    "    print(type(dicom_files))\n",
    "    slices=dicom_files\n",
    "    data = np.stack([s.pixel_array for s in slices])\n",
    "    pixel_spacing = slices[0].PixelSpacing\n",
    "    if hasattr(slices[0], 'SpacingBetweenSlices'):\n",
    "        thickness = slices[0].SpacingBetweenSlices\n",
    "    else:\n",
    "        thickness = abs(slices[1].ImagePositionPatient[2] - slices[0].ImagePositionPatient[2])\n",
    "    # print(\"体厚度=\", thickness, pixel_spacing)\n",
    "    #数据处理\n",
    "    pos_ori = slices[-1].ImagePositionPatient\n",
    "    data = np.flip(data, axis=0)\n",
    "    axis = slices[0].ImageOrientationPatient\n",
    "    print(\"PatientID:\",slices[0].PatientID)\n",
    "    #find points\n",
    "    # print(f\"坐标系={axis}\")\n",
    "    row_cosines = np.array(axis[0:3])\n",
    "    col_cosines = np.array(axis[3:6])\n",
    "\n",
    "    spheres = detect_spheres_from_dicom(data=data, pixel_spacing=pixel_spacing, thickness=thickness, pos_ori=pos_ori,\n",
    "                                        r_range=0.75, rmax=5, rlen=10, output_points=15)\n",
    "    spheres[:,0]=-pos_ori[0]+spheres[:,0] * pixel_spacing[0]*row_cosines[0]*-1\n",
    "    spheres[:,1]=-pos_ori[1]+spheres[:,1] * pixel_spacing[1]*col_cosines[1]*-1\n",
    "    spheres[:,2]=pos_ori[2]-spheres[:,2] * thickness\n",
    "    return spheres\n"
   ]
  },
  {
   "cell_type": "code",
   "execution_count": 4,
   "id": "be91aad8",
   "metadata": {},
   "outputs": [
    {
     "name": "stdout",
     "output_type": "stream",
     "text": [
      "<class 'list'>\n",
      "PatientID: CT-MP25080-250606-8\n",
      "最佳匹配索引组合： [0, 1, 2, 3]\n",
      "对应的检测点（已按实际顺序匹配）：\n",
      "实际球 1 ⟶ 检测点 [  38.265625    8.596497 -278.89502 ]\n",
      "实际球 2 ⟶ 检测点 [  39.71875    13.440247 -252.895   ]\n",
      "实际球 3 ⟶ 检测点 [  33.90625    18.283997 -215.895   ]\n",
      "实际球 4 ⟶ 检测点 [  12.59375    11.987122 -218.895   ]\n",
      "总距离误差： 1.7967411970742315\n"
     ]
    },
    {
     "data": {
      "text/plain": [
       "array([[  37.61808863,    1.01142616, -300.47050752],\n",
       "       [  43.16321965,   -2.81717284, -261.34451422],\n",
       "       [  41.69762688,   12.25644033, -241.67503981],\n",
       "       [  26.71688263,    1.82548005, -214.73254106]])"
      ]
     },
     "execution_count": 4,
     "metadata": {},
     "output_type": "execute_result"
    }
   ],
   "source": [
    "#规划\n",
    "dicom_folder =  \"C:/Users/YangLiangZhu/Desktop/泰州精度验证/Tai0606/9/dicom_data9_gui\"\n",
    "# dicom_folder = 'C:/Users/YangLiangZhu/Downloads/CT/CT/手术/MP25080/CT-MP25080-250606-6/S8010'\n",
    "ct_all_ball = find_ct_ball(dicom_folder)\n",
    "matched_points, _, _ = match_balls_by_geometry(plan_ball, ct_all_ball[:, :3], verbose=True)\n",
    "ct_ball = matched_points[:, :3]\n",
    "# ct_ball =  np.array([[  30.329681,    29.34164,   -399.524    ],\n",
    "#  [  30.329681,    23.579922 , -373.524    ],\n",
    "#  [  23.99179 ,    16.66586  , -336.524    ],\n",
    "#  [   1.5210876 ,  18.970547 , -341.524    ]])\n",
    "ct_plan_ball_mat, _ = rigidTransform3D(plan_ball.T, ct_ball.T)\n",
    "ct_plan_ball_body = transform3d(plan_body, ct_plan_ball_mat)\n",
    "T0, _ = rigidTransform3D(rom_body.T, ct_plan_ball_body.T)\n",
    "ct_plan_ball_body\n"
   ]
  },
  {
   "cell_type": "code",
   "execution_count": 5,
   "id": "6331efc4",
   "metadata": {},
   "outputs": [
    {
     "name": "stdout",
     "output_type": "stream",
     "text": [
      "<class 'list'>\n",
      "PatientID: CT-MP25080-250606-9\n",
      "[[  38.265625    8.596497 -278.89502 ]\n",
      " [  40.203125   13.440247 -252.895   ]\n",
      " [  12.109375   11.987122 -218.895   ]\n",
      " [  33.421875   18.283997 -215.895   ]\n",
      " [  65.875     109.3465   -320.89502 ]]\n",
      "最佳匹配索引组合： [0, 1, 3, 2]\n",
      "对应的检测点（已按实际顺序匹配）：\n",
      "实际球 1 ⟶ 检测点 [  38.265625    8.596497 -278.89502 ]\n",
      "实际球 2 ⟶ 检测点 [  40.203125   13.440247 -252.895   ]\n",
      "实际球 3 ⟶ 检测点 [  33.421875   18.283997 -215.895   ]\n",
      "实际球 4 ⟶ 检测点 [  12.109375   11.987122 -218.895   ]\n",
      "总距离误差： 1.485317788634671\n"
     ]
    },
    {
     "data": {
      "text/plain": [
       "array([[  38.01585394,    1.0292275 , -300.41453563],\n",
       "       [  43.18989697,   -2.83248915, -261.24099324],\n",
       "       [  41.57456484,   12.23361805, -241.57749619],\n",
       "       [  26.32234411,    1.82046972, -214.78081777]])"
      ]
     },
     "execution_count": 5,
     "metadata": {},
     "output_type": "execute_result"
    }
   ],
   "source": [
    "# 验证\n",
    "ver_dicom_folder = \"C:/Users/YangLiangZhu/Desktop/泰州精度验证/Tai0606/9/dicom_data9_yan\"\n",
    "# ver_dicom_folder = 'C:/Users/YangLiangZhu/Downloads/CT/CT/手术/MP25080/CT-MP25080-250606-7/S9010'\n",
    "\n",
    "# print(time.time() - ts)\n",
    "ver_ct_all_ball=find_ct_ball(ver_dicom_folder)\n",
    "\n",
    "print(ver_ct_all_ball[:5, :3])\n",
    "ver_matched_points, _, _ = match_balls_by_geometry(plan_ball, ver_ct_all_ball[:, :3],                                                               verbose=True)\n",
    "ver_ct_ball = ver_matched_points[:, :3]\n",
    "ver_ct_plan_ball_mat, _ = rigidTransform3D(plan_ball.T, ver_ct_ball.T)\n",
    "# print(\"模型到CT坐标的刚性变换矩阵\", ct_plan_ball_mat)\n",
    "\n",
    "ver_ct_plan_ball_body = transform3d(plan_body, ver_ct_plan_ball_mat)\n",
    "# print(\"ct下光球位置\", ct_plan_ball_body)\n",
    "\n",
    "ver_T0, _ = rigidTransform3D(rom_body.T, ver_ct_plan_ball_body.T)\n",
    "ver_ct_plan_ball_body"
   ]
  },
  {
   "cell_type": "code",
   "execution_count": 6,
   "id": "ea2c7347",
   "metadata": {},
   "outputs": [],
   "source": [
    "# CT里手点针尖的位置\n",
    "ct_find_needle_tips = {1: np.array([8.637, 95.083, -348.771]), \n",
    "                       2: np.array([8.597, 94.855, -348.908]),\n",
    "                       3: np.array([-24.785, 89.418, -348.672]),\n",
    "                       4: np.array([-30.119, 101.916, -328.733]),\n",
    "                       5: np.array([-34.021, 114.390, -424.759]),\n",
    "                       6: np.array([-33.617, 114.151, -424.865]),\n",
    "                       7: np.array([-1.510, 94.408, -403.805]),\n",
    "                       8: np.array([-33.602, 91.015, -465.719]),\n",
    "                       9: np.array([-43.074, 82.129, -467.753]),\n",
    "                       10: np.array([-4.252, 76.807, -457.985])}\n",
    "\n",
    "ct_find_needle_tails = {1: np.array([30.467, 7.622, -353.911]),\n",
    "                        2: np.array([30.553, 7.436, -353.945]),\n",
    "                        3: np.array([-39.718, 0.258, -345.846]),\n",
    "                        4: np.array([-60.334, -85.350, -353.023]),\n",
    "                        5: np.array([-104.274, -61.568, -421.010]),\n",
    "                        6: np.array([-104.550, -62.330, -420.792]),\n",
    "                        7: np.array([119.393, 21.571, -427.332]),\n",
    "                        8: np.array([-84.018, -78.802, -457.905]),\n",
    "                        9: np.array([-122.632, -50.054, -456.216]),\n",
    "                        10: np.array([101.384, -51.280, -408.672])}"
   ]
  },
  {
   "cell_type": "code",
   "execution_count": 7,
   "id": "1cd3d005",
   "metadata": {},
   "outputs": [],
   "source": [
    "# REDIS数据\n",
    "pose_to_ct = {1: np.array([[-1.1102230246251565e-16,\n",
    "                            92.31198298007996,\n",
    "                            -353.3949890136718],\n",
    "                           [36.85393225106759,\n",
    "                            -25.890258046204025,\n",
    "                            -350.69835982456937]]),\n",
    "              2: np.array([[],  # 没做\n",
    "                           []]),\n",
    "              3: np.array([\n",
    "                  [\n",
    "                      -28.31460648557631,\n",
    "                      94.87265549658136,\n",
    "                      -354.394989013672],\n",
    "                  [\n",
    "                      -45.39325801655887,\n",
    "                      -35.91385453630318,\n",
    "                      -349.00173063546674\n",
    "                  ]]),\n",
    "              4: np.array([\n",
    "                  [\n",
    "                      -32.8089884674138,\n",
    "                      103.86141907272466,\n",
    "                      -350.8444272118558\n",
    "                  ],\n",
    "                  [\n",
    "                      -53.483145583866374,\n",
    "                      -29.62172003300288,\n",
    "                      -350.39498901367176\n",
    "                  ]]),\n",
    "              5: np.array([\n",
    "                  [\n",
    "                      -34.15730312009486,\n",
    "                      102.06366635749596,\n",
    "                      -431.788247391877\n",
    "                  ],\n",
    "                  [\n",
    "                      -67.86516792574642,\n",
    "                      1.8389524834985522,\n",
    "                      -427.2938654100393\n",
    "                  ]\n",
    "              ]),\n",
    "              6: np.array([  # 没做\n",
    "                  [\n",
    "\n",
    "                  ],\n",
    "                  [\n",
    "\n",
    "                  ]]\n",
    "              ),\n",
    "              7: np.array([[\n",
    "                  -8,\n",
    "                  107.0074863243748,\n",
    "                  -406.57477513461515\n",
    "              ],\n",
    "                  [\n",
    "                      74.24719040326252,\n",
    "                      43.63670311256479,\n",
    "                      -418.26016828739273\n",
    "                  ]\n",
    "              ]),\n",
    "              8: np.array([[\n",
    "                  -25.775280720085007,\n",
    "                  103.41198089391746,\n",
    "                  -459.60848252029757\n",
    "              ],\n",
    "                  [\n",
    "                      -70.26966234027638,\n",
    "                      -33.6666636422674,\n",
    "                      -465.45117909668653\n",
    "                  ]]),\n",
    "              9: np.array([[-33.25842666559757,\n",
    "                            92.1760264237384,\n",
    "                            -465.394989013672],\n",
    "                           [-129.43820088315445,\n",
    "                            -26.475652781352707,\n",
    "                            -460.9006070318342]]),\n",
    "              10: np.array([[-4.943820180021258,\n",
    "                             86.78276827805243,\n",
    "                             -450.394989013672],\n",
    "                            [73.70786450213518,\n",
    "                             -22.43070917208827,\n",
    "                             -450.39498901367176]])\n",
    "              }\n",
    "\n",
    "robot_after = {1: np.array([-163.148193359375,\n",
    "                            212.99407958984375,\n",
    "                            -1651.0927734375,\n",
    "                            0.8833289742469788,\n",
    "                            -0.3302684724330902,\n",
    "                            -0.32147645950317383,\n",
    "                            -0.08547268807888031]),\n",
    "               2: np.array([-130.24606323242188,\n",
    "                            218.477783203125,\n",
    "                            -1527.9007568359375,\n",
    "                            0.8530240058898926,\n",
    "                            -0.5010212063789368,\n",
    "                            -0.055626656860113144,\n",
    "                            0.13503168523311615]),\n",
    "               3: np.array([-161.05067443847656,\n",
    "                            187.23045349121094,\n",
    "                            -1652.1734619140625,\n",
    "                            0.871877908706665,\n",
    "                            -0.34895244240760803,\n",
    "                            -0.333023339509964,\n",
    "                            -0.08459670841693878]),\n",
    "               4: np.array([-208.33087158203125,\n",
    "                            77.00535583496094,\n",
    "                            -1611.321044921875,\n",
    "                            0.9560052752494812,\n",
    "                            -0.27341169118881226,\n",
    "                            -0.10555561631917953,\n",
    "                            0.012565813958644867]),\n",
    "               5: np.array([\n",
    "                   -140.6206817626953,\n",
    "                   255.92921447753906,\n",
    "                   -1559.7490234375,\n",
    "                   0.820655107498169,\n",
    "                   -0.5669674277305603,\n",
    "                   -0.05909746140241623,\n",
    "                   -0.039758335798978806\n",
    "               ],\n",
    "               )\n",
    "               }\n",
    "\n",
    "spine_after = {1: np.array([-33.34297561645508,\n",
    "                            43.048763275146484,\n",
    "                            -1528.234619140625,\n",
    "                            0.9649072885513306,\n",
    "                            -0.06590159237384796,\n",
    "                            0.22094786167144775,\n",
    "                            0.12567009031772614]),\n",
    "               2: np.array([-31.724733352661133,\n",
    "                            42.38328170776367,\n",
    "                            -1529.2227783203125,\n",
    "                            0.9648662805557251,\n",
    "                            -0.06486830860376358,\n",
    "                            0.22007229924201965,\n",
    "                            0.12803645431995392]),\n",
    "               3: np.array([-31.7352237701416,\n",
    "                            45.380958557128906,\n",
    "                            -1530.553955078125,\n",
    "                            0.9648716449737549,\n",
    "                            -0.06484962999820709,\n",
    "                            0.2196609377861023,\n",
    "                            0.1287100613117218]),\n",
    "               4: np.array([-32.76726531982422,\n",
    "                            42.52442169189453,\n",
    "                            -1529.698974609375,\n",
    "                            0.965252161026001,\n",
    "                            -0.06576952338218689,\n",
    "                            0.21870079636573792,\n",
    "                            0.12701416015625]),\n",
    "               5: np.array([\n",
    "                   -34.308326721191406,\n",
    "                   29.772933959960938,\n",
    "                   -1530.30810546875,\n",
    "                   0.9653386473655701,\n",
    "                   -0.07120106369256973,\n",
    "                   0.21724843978881836,\n",
    "                   0.12591595947742462\n",
    "               ]\n",
    "               )\n",
    "               }\n",
    "\n",
    "robot_before = {1: np.array([-135.85165405273438,\n",
    "                             186.60446166992188,\n",
    "                             -1778.3310546875,\n",
    "                             0.9219368696212769,\n",
    "                             -0.3848118185997009,\n",
    "                             -0.04257398843765259,\n",
    "                             0.011819192208349705]),\n",
    "                2: np.array([]),\n",
    "                3: np.array([\n",
    "                    -173.91546630859375,\n",
    "                    168.3963623046875,\n",
    "                    -1873.732177734375,\n",
    "                    0.8832840919494629,\n",
    "                    -0.3917657136917114,\n",
    "                    -0.2552027702331543,\n",
    "                    -0.034646496176719666\n",
    "                ]),\n",
    "                4: np.array([23.689552307128906,\n",
    "                            155.73431396484375,\n",
    "                            -1739.515869140625,\n",
    "                            0.7771176099777222,\n",
    "                            0.0032706281635910273,\n",
    "                            0.6293390393257141,\n",
    "                            -0.00315357674844563\n",
    "                    ]),\n",
    "                5: np.array([-151.03428649902344,\n",
    "                             91.60417175292969,\n",
    "                             -1918.1328125,\n",
    "                             0.8664283752441406,\n",
    "                             -0.32389163970947266,\n",
    "                             -0.36881938576698303,\n",
    "                             -0.0914786085486412]),\n",
    "                6: np.array([]),\n",
    "                7: np.array([]),\n",
    "                8: np.array([-165.2660369873047,\n",
    "                             48.537715911865234,\n",
    "                             -1889.4990234375,\n",
    "                             0.9159523844718933,\n",
    "                             -0.19436857104301453,\n",
    "                             -0.3505324423313141,\n",
    "                             -0.019471364095807076]),\n",
    "                9: np.array([          -223.3853302001953,\n",
    "        70.27033233642578,\n",
    "        -1932.027099609375,\n",
    "        0.881690502166748,\n",
    "        -0.12311463803052902,\n",
    "        -0.4472082555294037,\n",
    "        -0.0864257961511612]),\n",
    "                10: np.array([-152.63983154296875,\n",
    "                              -210.029052734375,\n",
    "                              -1723.353515625,\n",
    "                              0.8849340081214905,\n",
    "                              -0.44701582193374634,\n",
    "                              0.12473800033330917,\n",
    "                              -0.03884631022810936])\n",
    "                }\n",
    "\n",
    "spine_before = {1: np.array([-29.990947723388672,\n",
    "                             -12.837776184082031,\n",
    "                             -1784.919189453125,\n",
    "                             0.959116518497467,\n",
    "                             -0.07575679570436478,\n",
    "                             0.23862174153327942,\n",
    "                             0.13196974992752075]),\n",
    "                2: np.array([]),\n",
    "                3: np.array([\n",
    "                    23.391864776611328,\n",
    "                    150.80743408203125,\n",
    "                    -1738.9505615234375,\n",
    "                    0.778316080570221,\n",
    "                    0.0007537917117588222,\n",
    "                    0.627859890460968,\n",
    "                    -0.0039338478818535805]),\n",
    "                4: np.array([]),\n",
    "                5: np.array([24.600757598876953,\n",
    "                             152.58651733398438,\n",
    "                             -1739.0601806640625,\n",
    "                             0.7766873240470886,\n",
    "                             0.0038468502461910248,\n",
    "                             0.6298716068267822,\n",
    "                             -0.00196087802760303]),\n",
    "                6: np.array([]),\n",
    "                7: np.array([]),\n",
    "                8: np.array([-62.59754943847656,\n",
    "                             235.97930908203125,\n",
    "                             -1797.99658203125,\n",
    "                             0.9277182817459106,\n",
    "                             -0.06053275614976883,\n",
    "                             0.35370245575904846,\n",
    "                             -0.10280656069517136]),\n",
    "                9: np.array([        -112.70799255371094,\n",
    "        251.69407653808594,\n",
    "        -1792.8687744140625,\n",
    "        0.9208774566650391,\n",
    "        -0.058551568537950516,\n",
    "        0.37116739153862,\n",
    "        -0.103880703449249275]),\n",
    "                10: np.array([-117.12763214111328,\n",
    "                              -105.92213439941406,\n",
    "                              -1823.0274658203125,\n",
    "                              0.9465838074684143,\n",
    "                              -0.2888542413711548,\n",
    "                              -0.1169838085770607,\n",
    "                              -0.08280784636735916])\n",
    "                }\n"
   ]
  },
  {
   "cell_type": "code",
   "execution_count": null,
   "id": "b0a2df36",
   "metadata": {},
   "outputs": [
    {
     "data": {
      "text/plain": [
       "array([[-1.22613984e-01,  5.42221149e-02, -9.90972135e-01,\n",
       "         5.82380944e+01],\n",
       "       [-1.04364609e-01,  9.92265779e-01,  6.72060366e-02,\n",
       "        -1.66891165e+02],\n",
       "       [ 9.86951792e-01,  1.11662819e-01, -1.16006790e-01,\n",
       "        -1.82441089e+02],\n",
       "       [ 0.00000000e+00,  0.00000000e+00,  0.00000000e+00,\n",
       "         1.00000000e+00]])"
      ]
     },
     "execution_count": 8,
     "metadata": {},
     "output_type": "execute_result"
    }
   ],
   "source": [
    "# change1\n",
    "spine = Q2M(spine_before[9][3:], spine_before[9][:3])  # 光球自身相对于NDI的刚性矩阵\n",
    "robot = Q2M(robot_before[9][3:], robot_before[9][:3])  # 机器人光球相对于NDI的刚性矩阵\n",
    "spine, robot\n",
    "robot_2_spine = np.linalg.inv(spine) @ robot\n",
    "robot_2_spine"
   ]
  },
  {
   "cell_type": "code",
   "execution_count": 9,
   "id": "e28b7846",
   "metadata": {},
   "outputs": [
    {
     "data": {
      "text/plain": [
       "(array([[ -31.14481914,   92.41878311, -465.94022367],\n",
       "        [-127.60007204,  -26.04140501, -462.39938346]]),\n",
       " array([ -31.14481914,   92.41878311, -465.94022367]),\n",
       " array([ -31.45261901,   88.33828924, -465.91010426]))"
      ]
     },
     "execution_count": 9,
     "metadata": {},
     "output_type": "execute_result"
    }
   ],
   "source": [
    "# change2\n",
    "ver_ct_ball_mat, _ = rigidTransform3D(ct_ball.T, ver_ct_ball.T)\n",
    "ver_ct_ball_hope_needle = transform3d(pose_to_ct[9], ver_ct_ball_mat)  # 规划里的到验证ct里针尖的位置\n",
    "ver_t0_needle=transform3d(pose_to_ct[9], np.linalg.inv(T0)@ver_T0)\n",
    "ver_ct_ball_hope_needle, ver_ct_ball_hope_needle[0], ver_t0_needle[0]"
   ]
  },
  {
   "cell_type": "code",
   "execution_count": 10,
   "id": "c221e323",
   "metadata": {},
   "outputs": [
    {
     "data": {
      "text/plain": [
       "('规划和CT针尖距离：',\n",
       " array([11.92918086, 10.28978311,  1.81277633]),\n",
       " 15.857841927285023)"
      ]
     },
     "execution_count": 10,
     "metadata": {},
     "output_type": "execute_result"
    }
   ],
   "source": [
    "# change3  规划转到验证里的和ct的\n",
    "\"规划和CT针尖距离：\", ver_ct_ball_hope_needle[0]- ct_find_needle_tips[9] ,np.linalg.norm(ver_ct_ball_hope_needle[0] - ct_find_needle_tips[9])"
   ]
  },
  {
   "cell_type": "code",
   "execution_count": 11,
   "id": "57d56f15",
   "metadata": {},
   "outputs": [
    {
     "data": {
      "text/plain": [
       "(array([ -96.17977422, -118.65167921,    4.49438198]),\n",
       " array([-0.62943356, -0.77649744,  0.02941278]))"
      ]
     },
     "execution_count": 11,
     "metadata": {},
     "output_type": "execute_result"
    }
   ],
   "source": [
    "# change4 希望扎针 规划\n",
    "hope_X_dis = pose_to_ct[9][1] - pose_to_ct[9][0]\n",
    "hope_X_dis, hope_X_dis/np.linalg.norm(hope_X_dis)"
   ]
  },
  {
   "cell_type": "code",
   "execution_count": null,
   "id": "3c796114",
   "metadata": {},
   "outputs": [
    {
     "data": {
      "text/plain": [
       "(array([-0.5352357 , -0.844698  ,  0.00283612]),\n",
       " array([[-113.48447521,  -27.690796  , -463.63747503]]),\n",
       " array([[ -38.55147745,   90.56692338, -464.03453168]]))"
      ]
     },
     "execution_count": 12,
     "metadata": {},
     "output_type": "execute_result"
    }
   ],
   "source": [
    "#验证robot扎针, 实际扎针\n",
    "ca_robot_x = robot[:3,:3]@np.array(tail_x)  # 变换为NDI下tail_x的方向向量\n",
    "ct_robot_x = (T0@np.linalg.inv(spine)@robot)[:3,:3]@np.array(tail_x)  # 变换为CT下tail_x的向量\n",
    "ct_robot_p = transform3d(np.array(tail_p).reshape(1,3),T0@np.linalg.inv(spine)@robot)\n",
    "ct_robot_p2 = ct_robot_p - ct_robot_x * 140\n",
    "ct_robot_x, ct_robot_p, ct_robot_p2"
   ]
  },
  {
   "cell_type": "code",
   "execution_count": 13,
   "id": "1a084873",
   "metadata": {},
   "outputs": [
    {
     "data": {
      "text/plain": [
       "('规划和计算角度', 6.839057158691965)"
      ]
     },
     "execution_count": 13,
     "metadata": {},
     "output_type": "execute_result"
    }
   ],
   "source": [
    "from cal_math import calculate_angle\n",
    "\"规划和计算角度\", calculate_angle(hope_X_dis, ct_robot_x)  # 规划和验证的"
   ]
  },
  {
   "cell_type": "code",
   "execution_count": 14,
   "id": "cca46dca",
   "metadata": {},
   "outputs": [
    {
     "data": {
      "text/plain": [
       "('计算和规划针尖距离',\n",
       " array([[-7.40665831, -1.85185973,  1.90569199]]),\n",
       " 7.868902959522763)"
      ]
     },
     "execution_count": 14,
     "metadata": {},
     "output_type": "execute_result"
    }
   ],
   "source": [
    "\"计算和规划针尖距离\", ct_robot_p2 - ver_ct_ball_hope_needle[0] ,np.linalg.norm(ct_robot_p2 - ver_ct_ball_hope_needle[0])"
   ]
  },
  {
   "cell_type": "code",
   "execution_count": 15,
   "id": "d1ee3d6a",
   "metadata": {},
   "outputs": [
    {
     "data": {
      "text/plain": [
       "('计算和CT针尖距离',\n",
       " array([[4.52252255, 8.43792338, 3.71846832]]),\n",
       " 10.270285673588702)"
      ]
     },
     "execution_count": 15,
     "metadata": {},
     "output_type": "execute_result"
    }
   ],
   "source": [
    "# 验证的和ct\n",
    "\"计算和CT针尖距离\", ct_robot_p2 - ct_find_needle_tips[9] ,np.linalg.norm(ct_robot_p2 - ct_find_needle_tips[9])"
   ]
  },
  {
   "cell_type": "code",
   "execution_count": 16,
   "id": "170bd56d",
   "metadata": {},
   "outputs": [
    {
     "data": {
      "text/plain": [
       "(array([ -79.558, -132.183,   11.537]),\n",
       " array([-0.51424235, -0.85439674,  0.07457219]))"
      ]
     },
     "execution_count": 16,
     "metadata": {},
     "output_type": "execute_result"
    }
   ],
   "source": [
    "# change5 CT 扎针 \n",
    "hand_ct_X_dis = ct_find_needle_tails[9] - ct_find_needle_tips[9]\n",
    "hand_ct_X_dis, hand_ct_X_dis / np.linalg.norm(hand_ct_X_dis)"
   ]
  },
  {
   "cell_type": "code",
   "execution_count": 17,
   "id": "2218e25d",
   "metadata": {},
   "outputs": [
    {
     "data": {
      "text/plain": [
       "('规划和CT角度', 8.384562909607853)"
      ]
     },
     "execution_count": 17,
     "metadata": {},
     "output_type": "execute_result"
    }
   ],
   "source": [
    "\"规划和CT角度\", calculate_angle(hand_ct_X_dis, hope_X_dis)  # ct的和规划的"
   ]
  },
  {
   "cell_type": "code",
   "execution_count": 1,
   "id": "535e9af9",
   "metadata": {},
   "outputs": [
    {
     "ename": "NameError",
     "evalue": "name 'calculate_angle' is not defined",
     "output_type": "error",
     "traceback": [
      "\u001b[1;31m---------------------------------------------------------------------------\u001b[0m",
      "\u001b[1;31mNameError\u001b[0m                                 Traceback (most recent call last)",
      "Cell \u001b[1;32mIn[1], line 1\u001b[0m\n\u001b[1;32m----> 1\u001b[0m \u001b[38;5;124m\"\u001b[39m\u001b[38;5;124m计算和CT角度\u001b[39m\u001b[38;5;124m\"\u001b[39m, \u001b[43mcalculate_angle\u001b[49m(hand_ct_X_dis, ct_robot_x)  \u001b[38;5;66;03m# ct的实际的\u001b[39;00m\n",
      "\u001b[1;31mNameError\u001b[0m: name 'calculate_angle' is not defined"
     ]
    }
   ],
   "source": [
    "\"计算和CT角度\", calculate_angle(hand_ct_X_dis, ct_robot_x)  # ct的实际的"
   ]
  }
 ],
 "metadata": {
  "kernelspec": {
   "display_name": "Python 3",
   "language": "python",
   "name": "python3"
  },
  "language_info": {
   "codemirror_mode": {
    "name": "ipython",
    "version": 3
   },
   "file_extension": ".py",
   "mimetype": "text/x-python",
   "name": "python",
   "nbconvert_exporter": "python",
   "pygments_lexer": "ipython3",
   "version": "3.8.10"
  }
 },
 "nbformat": 4,
 "nbformat_minor": 5
}
