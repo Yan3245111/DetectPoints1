{
 "cells": [
  {
   "cell_type": "code",
   "execution_count": 1,
   "id": "f44eb9c7",
   "metadata": {},
   "outputs": [
    {
     "name": "stdout",
     "output_type": "stream",
     "text": [
      "[Taichi] version 1.7.3, llvm 15.0.1, commit 5ec301be, win, python 3.8.10\n",
      "[Taichi] Starting on arch=x64\n"
     ]
    }
   ],
   "source": [
    "import os\n",
    "from glob import glob\n",
    "import numpy as np\n",
    "import sys\n",
    "import pydicom\n",
    "project_root = os.path.abspath(os.path.join(os.getcwd(), '..'))\n",
    "if project_root not in sys.path:\n",
    "    sys.path.append(project_root)\n",
    "\n",
    "# from FindPoints.detect_points import detect_spheres_from_dicom\n",
    "from detect_balls import detect_spheres_from_dicom\n",
    "from cal_math import rigidTransform3D, transform3d, match_balls_by_geometry, Q2M\n",
    "from plan_rom_data import plan_ball, plan_robot, plan_body, rom_body, rom_robot"
   ]
  },
  {
   "cell_type": "code",
   "execution_count": 2,
   "id": "43d6abea",
   "metadata": {},
   "outputs": [
    {
     "data": {
      "text/plain": [
       "(array([-0.7186764 , -0.41793381,  0.55572976]),\n",
       " array([43.38508775, -4.95764079,  4.6531603 ]))"
      ]
     },
     "execution_count": 2,
     "metadata": {},
     "output_type": "execute_result"
    }
   ],
   "source": [
    "# 针尖法向量计算\n",
    "rom_plane_robot_mat, _=rigidTransform3D(plan_robot[:4].T, rom_robot.T)  # 模型到rom的变换矩阵\n",
    "# print(transform3d(plan_robot[:4], rom_plane_robot_mat))\n",
    "# print(np.linalg.norm(transform3d(plan_robot[:4],rom_plane_robot_mat)-rom_robot,axis=1))  # 光球模型在rom下的位置和误差\n",
    "r_pos = transform3d(plan_robot[4:],rom_plane_robot_mat)\n",
    "r_plan_dis = r_pos[0] - r_pos[1]\n",
    "tail_x = r_plan_dis / np.linalg.norm(r_plan_dis)\n",
    "tail_p = r_pos[0]\n",
    "tail_x, tail_p"
   ]
  },
  {
   "cell_type": "code",
   "execution_count": 4,
   "id": "445dec72",
   "metadata": {},
   "outputs": [],
   "source": [
    "def find_ct_ball(dicom_folder):\n",
    "    dicom_paths = glob(os.path.join(dicom_folder, \"*.dcm\"))\n",
    "    dicom_files = [pydicom.dcmread(path) for path in dicom_paths] \n",
    "    def get_z_position(dcm):\n",
    "        if hasattr(dcm, 'SliceLocation'):\n",
    "            # print(\"paixun 1\")\n",
    "            return float(dcm.SliceLocation)  # 优先使用 SliceLocation\n",
    "        elif hasattr(dcm, 'ImagePositionPatient'):\n",
    "            # print(\"paixun 2\")\n",
    "            return float(dcm.ImagePositionPatient[2])  # 否则使用 ImagePositionPatient 的 z 分量\n",
    "        else:\n",
    "            # print(\"paixun 3\")\n",
    "            return 0  # 如果没有 z 信息，默认 0\n",
    "    dicom_files.sort(key=get_z_position)\n",
    "    print(type(dicom_files))\n",
    "    slices=dicom_files\n",
    "    data = np.stack([s.pixel_array for s in slices])\n",
    "    pixel_spacing = slices[0].PixelSpacing\n",
    "    if hasattr(slices[0], 'SpacingBetweenSlices'):\n",
    "        thickness = slices[0].SpacingBetweenSlices\n",
    "    else:\n",
    "        thickness = abs(slices[1].ImagePositionPatient[2] - slices[0].ImagePositionPatient[2])\n",
    "    # print(\"体厚度=\", thickness, pixel_spacing)\n",
    "    #数据处理\n",
    "    pos_ori = slices[-1].ImagePositionPatient\n",
    "    data = np.flip(data, axis=0)\n",
    "    axis = slices[0].ImageOrientationPatient\n",
    "    print(\"PatientID:\",slices[0].PatientID)\n",
    "    #find points\n",
    "    # print(f\"坐标系={axis}\")\n",
    "    row_cosines = np.array(axis[0:3])\n",
    "    col_cosines = np.array(axis[3:6])\n",
    "\n",
    "    spheres = detect_spheres_from_dicom(data=data, pixel_spacing=pixel_spacing, thickness=thickness, pos_ori=pos_ori,\n",
    "                                        r_range=0.75, rmax=5, rlen=10, output_points=15)\n",
    "    spheres[:,0]=-pos_ori[0]+spheres[:,0] * pixel_spacing[0]*row_cosines[0]*-1\n",
    "    spheres[:,1]=-pos_ori[1]+spheres[:,1] * pixel_spacing[1]*col_cosines[1]*-1\n",
    "    spheres[:,2]=pos_ori[2]-spheres[:,2] * thickness\n",
    "    return spheres\n"
   ]
  },
  {
   "cell_type": "code",
   "execution_count": 5,
   "id": "be91aad8",
   "metadata": {},
   "outputs": [
    {
     "name": "stdout",
     "output_type": "stream",
     "text": [
      "<class 'list'>\n",
      "PatientID: CT-MP25075-250605-6\n",
      "最佳匹配索引组合： [1, 0, 2, 3]\n",
      "对应的检测点（已按实际顺序匹配）：\n",
      "实际球 1 ⟶ 检测点 [  22.398438   20.848688 -398.176   ]\n",
      "实际球 2 ⟶ 检测点 [  23.5        14.973688 -372.176   ]\n",
      "实际球 3 ⟶ 检测点 [  16.523438     7.9971256 -335.176    ]\n",
      "实际球 4 ⟶ 检测点 [  -6.2421875   11.669001  -339.176    ]\n",
      "总距离误差： 0.9200575094580724\n"
     ]
    }
   ],
   "source": [
    "#规划\n",
    "dicom_folder = \"C:/Users/YangLiangZhu/Desktop/泰州精度验证/Tai0605/8/CT-MP25075-250605-6gui/S8010\"\n",
    "ct_all_ball = find_ct_ball(dicom_folder)\n",
    "matched_points, _, _ = match_balls_by_geometry(plan_ball, ct_all_ball[:, :3], verbose=True)\n",
    "ct_ball = matched_points[:, :3]\n",
    "ct_plan_ball_mat, _ = rigidTransform3D(plan_ball.T, ct_ball.T)\n",
    "ct_plan_ball_body = transform3d(plan_body, ct_plan_ball_mat)\n",
    "T0, _ = rigidTransform3D(rom_body.T, ct_plan_ball_body.T)\n"
   ]
  },
  {
   "cell_type": "code",
   "execution_count": 7,
   "id": "6331efc4",
   "metadata": {},
   "outputs": [
    {
     "name": "stdout",
     "output_type": "stream",
     "text": [
      "<class 'list'>\n",
      "PatientID: CT-MP25075-250605-8\n",
      "[[  15.7890625    7.9971256 -335.176    ]\n",
      " [  22.03125     21.215876  -398.176    ]\n",
      " [  23.5         14.973688  -372.176    ]\n",
      " [  -6.2421875   12.036188  -339.176    ]\n",
      " [ -87.02344     80.33306   -112.176    ]]\n",
      "最佳匹配索引组合： [1, 2, 0, 3]\n",
      "对应的检测点（已按实际顺序匹配）：\n",
      "实际球 1 ⟶ 检测点 [  22.03125    21.215876 -398.176   ]\n",
      "实际球 2 ⟶ 检测点 [  23.5        14.973688 -372.176   ]\n",
      "实际球 3 ⟶ 检测点 [  15.7890625    7.9971256 -335.176    ]\n",
      "实际球 4 ⟶ 检测点 [  -6.2421875   12.036188  -339.176    ]\n",
      "总距离误差： 0.5367003472622744\n",
      "ct下光球位置 [[  20.78681717   22.71823742 -420.53881737]\n",
      " [  20.67703209    3.08791127 -386.02956872]\n",
      " [  23.18611756    9.26190849 -362.11647088]\n",
      " [   2.8532238    -3.54858085 -340.17129684]]\n"
     ]
    },
    {
     "data": {
      "text/plain": [
       "(array([[  0.  ,   0.  ,   0.  ],\n",
       "        [-10.76,  38.02,   0.  ],\n",
       "        [  0.  ,  60.42,   0.  ],\n",
       "        [ -8.63,  83.9 , -20.23]]),\n",
       " array([[ 9.14434841e-02,  3.68028371e-02,  9.95129962e-01,\n",
       "          2.06742824e+01],\n",
       "        [ 9.69704628e-01, -2.30607955e-01, -8.05785635e-02,\n",
       "          2.26852498e+01],\n",
       "        [ 2.26519365e-01,  9.72350514e-01, -5.67754763e-02,\n",
       "         -4.20727726e+02],\n",
       "        [ 0.00000000e+00,  0.00000000e+00,  0.00000000e+00,\n",
       "          1.00000000e+00]]))"
      ]
     },
     "execution_count": 7,
     "metadata": {},
     "output_type": "execute_result"
    }
   ],
   "source": [
    "\n",
    "# 验证\n",
    "ver_dicom_folder = \"C:/Users/YangLiangZhu/Desktop/泰州精度验证/Tai0605/8/CT-MP25075-250605-yan/S10010\"\n",
    "\n",
    "# print(time.time() - ts)\n",
    "ver_ct_all_ball=find_ct_ball(ver_dicom_folder)\n",
    "\n",
    "print(ver_ct_all_ball[:5, :3])\n",
    "ver_matched_points, _, _ = match_balls_by_geometry(plan_ball, ver_ct_all_ball[:, :3],                                                               verbose=True)\n",
    "ver_ct_ball = ver_matched_points[:, :3]\n",
    "ver_ct_plan_ball_mat, _ = rigidTransform3D(plan_ball.T, ver_ct_ball.T)\n",
    "# print(\"模型到CT坐标的刚性变换矩阵\", ct_plan_ball_mat)\n",
    "\n",
    "ver_ct_plan_ball_body = transform3d(plan_body, ver_ct_plan_ball_mat)\n",
    "print(\"ct下光球位置\", ver_ct_plan_ball_body)\n",
    "\n",
    "ver_T0, _ = rigidTransform3D(rom_body.T, ver_ct_plan_ball_body.T)\n",
    "rom_body, ver_T0"
   ]
  },
  {
   "cell_type": "code",
   "execution_count": 10,
   "id": "ea2c7347",
   "metadata": {},
   "outputs": [],
   "source": [
    "# CT里手点针尖的位置\n",
    "ct_find_needle_tips = {1: np.array([-11.568, 81.232, -228.932]), \n",
    "                       2: np.array([17.889, 84.551, -226.954]),\n",
    "                       3: np.array([-18.696, 81.497, -256.153]),\n",
    "                       4: np.array([14.037, 84.261, -278.169]),\n",
    "                       5: np.array([20.644, 85.943, -222.288]),\n",
    "                       6: np.array([-10.115, 86.031, -204.159]),\n",
    "                       7: np.array([18.342, 92.726, -200.170]),\n",
    "                       8: np.array([-16.345, 81.005, -230.308])}\n",
    "\n",
    "ct_find_needle_tails = {1: np.array([-46.617, 9.498, -227.164]),\n",
    "                        2: np.array([38.553, 0.705, -232.203]),\n",
    "                        3: np.array([-50.404, 15.009, -254.229]),\n",
    "                        4: np.array([41.095, -6.627, -260.023]),\n",
    "                        5: np.array([30.264, -17.531, -195.207]),\n",
    "                        6: np.array([-60.872, -29.157, -180.259]),\n",
    "                        7: np.array([35.987, 1.184, -197.973]),\n",
    "                        8: np.array([-56.234, -28.724, -215.179])}"
   ]
  },
  {
   "cell_type": "code",
   "execution_count": 11,
   "id": "1cd3d005",
   "metadata": {},
   "outputs": [],
   "source": [
    "# REDIS数据\n",
    "pose_to_ct = {1: np.array([[-11.478202161858752,\n",
    "                            91.7897037540662,\n",
    "                            -231.09500122070304],\n",
    "                           [-52.37707819658013,\n",
    "                            -8.884448298738455,\n",
    "                            -225.70174284249748]]),\n",
    "              2: np.array([[16.17977513461503,\n",
    "                            92.49141776485129,\n",
    "                            -232.6759948730469],\n",
    "                           [39.999999638353835,\n",
    "                            -5.486105215110314,\n",
    "                            -232.67599487304688]]),\n",
    "              3: np.array([\n",
    "                [\n",
    "                    -14.382022341880003,\n",
    "                    92.04197958604414,\n",
    "                    -259.57487126941436],\n",
    "                [\n",
    "                    -57.977527565703895,\n",
    "                    -9.531048824374778,\n",
    "                    -252.3838600984744\n",
    "                  ]]),\n",
    "              4: np.array([\n",
    "                  [\n",
    "                    15.280898738247528,\n",
    "                    92.04197958604414,\n",
    "                    -288.6759948730469\n",
    "                ],\n",
    "                  [\n",
    "                      45.8426962147426,\n",
    "                      -25.710823261432665,\n",
    "                      -254.51869181108177\n",
    "                  ]]),\n",
    "              5: np.array([\n",
    "                  [\n",
    "                      17.078651530982537,\n",
    "                      87.54759779797251,\n",
    "                      -231.32768027849565\n",
    "                  ],\n",
    "                  [\n",
    "                      34.60674126014882,\n",
    "                      -32.452395943540125,\n",
    "                      -190.42880424377427\n",
    "                  ]\n",
    "              ]),\n",
    "              6: np.array([\n",
    "                  [\n",
    "                      -13.033707747328764,\n",
    "                      97.43523773173011,\n",
    "                      -201.67599487304688\n",
    "                  ],\n",
    "                  [\n",
    "                      -57.977527565703895,\n",
    "                      -23.463632367396855,\n",
    "                      -181.90071415296183\n",
    "                  ]]\n",
    "              ),\n",
    "              7: np.array([[\n",
    "                  17.078651530982537,\n",
    "                  95.18804683769429,\n",
    "                  -201.67599487304688\n",
    "              ],\n",
    "                  [\n",
    "                      40.89887603472134,\n",
    "                      -31.553519585925798,\n",
    "                      -196.28273649484186\n",
    "                  ]\n",
    "              ]),\n",
    "              8: np.array([[\n",
    "                  -13.483145945512536,\n",
    "                  94.28917048007995,\n",
    "                  -225.6759948730469\n",
    "              ],\n",
    "                  [\n",
    "                      -46.7415726111101,\n",
    "                      -9.980487003181949,\n",
    "                      -217.13666910755563\n",
    "                  ]])\n",
    "              }\n",
    "\n",
    "robot_after = {1: np.array([-163.148193359375,\n",
    "                            212.99407958984375,\n",
    "                            -1651.0927734375,\n",
    "                            0.8833289742469788,\n",
    "                            -0.3302684724330902,\n",
    "                            -0.32147645950317383,\n",
    "                            -0.08547268807888031]),\n",
    "               2: np.array([-130.24606323242188,\n",
    "                            218.477783203125,\n",
    "                            -1527.9007568359375,\n",
    "                            0.8530240058898926,\n",
    "                            -0.5010212063789368,\n",
    "                            -0.055626656860113144,\n",
    "                            0.13503168523311615]),\n",
    "               3: np.array([-161.05067443847656,\n",
    "                            187.23045349121094,\n",
    "                            -1652.1734619140625,\n",
    "                            0.871877908706665,\n",
    "                            -0.34895244240760803,\n",
    "                            -0.333023339509964,\n",
    "                            -0.08459670841693878]),\n",
    "               4: np.array([-208.33087158203125,\n",
    "                            77.00535583496094,\n",
    "                            -1611.321044921875,\n",
    "                            0.9560052752494812,\n",
    "                            -0.27341169118881226,\n",
    "                            -0.10555561631917953,\n",
    "                            0.012565813958644867]),\n",
    "               5: np.array([\n",
    "                   -140.6206817626953,\n",
    "                   255.92921447753906,\n",
    "                   -1559.7490234375,\n",
    "                   0.820655107498169,\n",
    "                   -0.5669674277305603,\n",
    "                   -0.05909746140241623,\n",
    "                   -0.039758335798978806\n",
    "               ],\n",
    "               )\n",
    "               }\n",
    "\n",
    "spine_after = {1: np.array([-33.34297561645508,\n",
    "                            43.048763275146484,\n",
    "                            -1528.234619140625,\n",
    "                            0.9649072885513306,\n",
    "                            -0.06590159237384796,\n",
    "                            0.22094786167144775,\n",
    "                            0.12567009031772614]),\n",
    "               2: np.array([-31.724733352661133,\n",
    "                            42.38328170776367,\n",
    "                            -1529.2227783203125,\n",
    "                            0.9648662805557251,\n",
    "                            -0.06486830860376358,\n",
    "                            0.22007229924201965,\n",
    "                            0.12803645431995392]),\n",
    "               3: np.array([-31.7352237701416,\n",
    "                            45.380958557128906,\n",
    "                            -1530.553955078125,\n",
    "                            0.9648716449737549,\n",
    "                            -0.06484962999820709,\n",
    "                            0.2196609377861023,\n",
    "                            0.1287100613117218]),\n",
    "               4: np.array([-32.76726531982422,\n",
    "                            42.52442169189453,\n",
    "                            -1529.698974609375,\n",
    "                            0.965252161026001,\n",
    "                            -0.06576952338218689,\n",
    "                            0.21870079636573792,\n",
    "                            0.12701416015625]),\n",
    "               5: np.array([\n",
    "                   -34.308326721191406,\n",
    "                   29.772933959960938,\n",
    "                   -1530.30810546875,\n",
    "                   0.9653386473655701,\n",
    "                   -0.07120106369256973,\n",
    "                   0.21724843978881836,\n",
    "                   0.12591595947742462\n",
    "               ]\n",
    "               )\n",
    "               }\n",
    "\n",
    "robot_before = {1: np.array([-163.148193359375,\n",
    "                             212.99407958984375,\n",
    "                             -1651.0927734375,\n",
    "                             0.8833289742469788,\n",
    "                             -0.3302684724330902,\n",
    "                             -0.32147645950317383,\n",
    "                             -0.08547268807888031]),\n",
    "                2: np.array([-130.1228485107422,\n",
    "                             218.465576171875,\n",
    "                             -1527.8455810546875,\n",
    "                             0.8528672456741333,\n",
    "                             -0.5013030171394348,\n",
    "                             -0.056207798421382904,\n",
    "                             0.13473451137542725]),\n",
    "                3: np.array([\n",
    "                    -160.98760986328125,\n",
    "                    188.01165771484375,\n",
    "                    -1653.105224609375,\n",
    "                    0.8726862072944641,\n",
    "                    -0.3505486249923706,\n",
    "                    -0.33052995800971985,\n",
    "                    -0.07927476614713669\n",
    "                ]),\n",
    "                4: np.array([-125.41316223144531,\n",
    "                             196.4991455078125,\n",
    "                             -1532.4453125,\n",
    "                             0.8343876004219055,\n",
    "                             -0.5509225726127625,\n",
    "                             -0.013552417047321796,\n",
    "                             -0.009897115640342236]),\n",
    "                5: np.array([-140.59359741210938,\n",
    "                             256.26007080078125,\n",
    "                             -1560.08203125,\n",
    "                             0.820141077041626,\n",
    "                             -0.5676160454750061,\n",
    "                             -0.059834908694028854,\n",
    "                             -0.040003687143325806]),\n",
    "                6: np.array([-172.16827392578125,\n",
    "                             251.9439697265625,\n",
    "                             -1658.2611083984375,\n",
    "                             0.8537662625312805,\n",
    "                             -0.41335898637771606,\n",
    "                             -0.3004518151283264,\n",
    "                             -0.09973087906837463]),\n",
    "                7: np.array([-142.87127685546875,\n",
    "                             263.3289794921875,\n",
    "                             -1541.806640625,\n",
    "                             0.8945340514183044,\n",
    "                             -0.4429192841053009,\n",
    "                             -0.05515580251812935,\n",
    "                             0.024272993206977844]),\n",
    "                8: np.array([-175.69700622558594,\n",
    "                             215.04905700683594,\n",
    "                             -1642.80615234375,\n",
    "                             0.8401060104370117,\n",
    "                             -0.4507373571395874,\n",
    "                             -0.30065783858299255,\n",
    "                             -0.025740014389157295])\n",
    "                }\n",
    "\n",
    "spine_before = {1: np.array([-33.34297561645508,\n",
    "                             43.048763275146484,\n",
    "                             -1528.234619140625,\n",
    "                             0.9649072885513306,\n",
    "                             -0.06590159237384796,\n",
    "                             0.22094786167144775,\n",
    "                             0.12567009031772614]),\n",
    "                2: np.array([-33.437232971191406,\n",
    "                             42.31951904296875,\n",
    "                             -1528.57470703125,\n",
    "                             0.9649953842163086,\n",
    "                             -0.06566346436738968,\n",
    "                             0.2206740379333496,\n",
    "                             0.12559938430786133]),\n",
    "                3: np.array([\n",
    "                    -33.1001091003418,\n",
    "                    45.30834197998047,\n",
    "                    -1530.1527099609375,\n",
    "                    0.9653571248054504,\n",
    "                    -0.06510182470083237,\n",
    "                    0.2181934416294098,\n",
    "                    0.12743228673934937]),\n",
    "                4: np.array([-32.68147277832031,\n",
    "                             28.49115753173828,\n",
    "                             -1530.2279052734375,\n",
    "                             0.9647408127784729,\n",
    "                             -0.07046534866094589,\n",
    "                             0.21886256337165833,\n",
    "                             0.1280975043773651]),\n",
    "                5: np.array([-33.02286148071289,\n",
    "                             29.723434448242188,\n",
    "                             -1530.746337890625,\n",
    "                             0.9649015665054321,\n",
    "                             -0.07060898095369339,\n",
    "                             0.21842744946479797,\n",
    "                             0.1275491565465927]),\n",
    "                6: np.array([-35.30064392089844,\n",
    "                             39.158348083496094,\n",
    "                             -1530.2076416015625,\n",
    "                             0.9657207131385803,\n",
    "                             -0.0676775872707367,\n",
    "                             0.21681463718414307,\n",
    "                             0.12567667663097382]),\n",
    "                7: np.array([-36.772430419921875,\n",
    "                             42.181114196777344,\n",
    "                             -1530.517578125,\n",
    "                             0.9660152196884155,\n",
    "                             -0.06780268251895905,\n",
    "                             0.21599169075489044,\n",
    "                             0.1247594952583313]),\n",
    "                8: np.array([-35.125118255615234,\n",
    "                             42.87014389038086,\n",
    "                             -1531.5341796875,\n",
    "                             0.9656884670257568,\n",
    "                             -0.06743000447750092,\n",
    "                             0.2164064347743988,\n",
    "                             0.1267566978931427])\n",
    "                }\n",
    "\n"
   ]
  },
  {
   "cell_type": "code",
   "execution_count": 12,
   "id": "b0a2df36",
   "metadata": {},
   "outputs": [],
   "source": [
    "# change1\n",
    "spine = Q2M(spine_before[8][3:], spine_before[8][:3])\n",
    "robot = Q2M(robot_before[8][3:], robot_before[8][:3])\n"
   ]
  },
  {
   "cell_type": "code",
   "execution_count": 13,
   "id": "e28b7846",
   "metadata": {},
   "outputs": [
    {
     "data": {
      "text/plain": [
       "(array([ -11.99578022,   93.94047452, -225.01609048]),\n",
       " array([  -9.45459548,   93.58353455, -226.35236666]))"
      ]
     },
     "execution_count": 13,
     "metadata": {},
     "output_type": "execute_result"
    }
   ],
   "source": [
    "# change2\n",
    "ver_ct_ball_mat, _ = rigidTransform3D(ct_ball.T, ver_ct_ball.T)\n",
    "ver_ct_ball_hope_needle = transform3d(pose_to_ct[8], ver_ct_ball_mat)\n",
    "ver_t0_needle=transform3d(pose_to_ct[8], np.linalg.inv(T0)@ver_T0)\n",
    "ver_ct_ball_hope_needle[0], ver_t0_needle[0]"
   ]
  },
  {
   "cell_type": "code",
   "execution_count": 14,
   "id": "c221e323",
   "metadata": {},
   "outputs": [
    {
     "data": {
      "text/plain": [
       "(array([ 4.34921978, 12.93547452,  5.29190952]), 14.637162295552507)"
      ]
     },
     "execution_count": 14,
     "metadata": {},
     "output_type": "execute_result"
    }
   ],
   "source": [
    "# change3  验证的和ct的\n",
    "ver_ct_ball_hope_needle[0]- ct_find_needle_tips[8] ,np.linalg.norm(ver_ct_ball_hope_needle[0] - ct_find_needle_tips[8])"
   ]
  },
  {
   "cell_type": "code",
   "execution_count": 15,
   "id": "57d56f15",
   "metadata": {},
   "outputs": [
    {
     "data": {
      "text/plain": [
       "(array([ -33.25842667, -104.26965748,    8.53932577]),\n",
       " array([-0.30296082, -0.94982308,  0.07778724]))"
      ]
     },
     "execution_count": 15,
     "metadata": {},
     "output_type": "execute_result"
    }
   ],
   "source": [
    "# change4 希望扎针\n",
    "hope_X_dis = pose_to_ct[8][1] - pose_to_ct[8][0]\n",
    "hope_X_dis, hope_X_dis/np.linalg.norm(hope_X_dis)"
   ]
  },
  {
   "cell_type": "code",
   "execution_count": 16,
   "id": "3c796114",
   "metadata": {},
   "outputs": [
    {
     "data": {
      "text/plain": [
       "(array([-0.30384035, -0.94944145,  0.07900612]),\n",
       " array([[ -55.92047934,  -38.88044613, -214.70807333]]))"
      ]
     },
     "execution_count": 16,
     "metadata": {},
     "output_type": "execute_result"
    }
   ],
   "source": [
    "#规划robot扎针\n",
    "ca_robot_x = robot[:3,:3]@np.array(tail_x)\n",
    "ct_robot_x = (T0@np.linalg.inv(spine)@robot)[:3,:3]@np.array(tail_x)\n",
    "ct_robot_p = transform3d(np.array(tail_p).reshape(1,3),T0@np.linalg.inv(spine)@robot)\n",
    "ct_robot_x, ct_robot_p"
   ]
  },
  {
   "cell_type": "code",
   "execution_count": 13,
   "id": "1a084873",
   "metadata": {},
   "outputs": [
    {
     "data": {
      "text/plain": [
       "11.421288136967506"
      ]
     },
     "execution_count": 13,
     "metadata": {},
     "output_type": "execute_result"
    }
   ],
   "source": [
    "from cal_math import calculate_angle\n",
    "calculate_angle(hope_X_dis, ct_robot_x)  # 规划和验证的"
   ]
  },
  {
   "cell_type": "code",
   "execution_count": 14,
   "id": "170bd56d",
   "metadata": {},
   "outputs": [
    {
     "data": {
      "text/plain": [
       "(array([ -39.889, -109.729,   15.129]),\n",
       " array([-0.33881617, -0.93203539,  0.12850535]))"
      ]
     },
     "execution_count": 14,
     "metadata": {},
     "output_type": "execute_result"
    }
   ],
   "source": [
    "# change5 CT 扎针 \n",
    "hand_ct_X_dis = ct_find_needle_tails[8] - ct_find_needle_tips[8]\n",
    "hand_ct_X_dis, hand_ct_X_dis / np.linalg.norm(hand_ct_X_dis)"
   ]
  },
  {
   "cell_type": "code",
   "execution_count": null,
   "id": "2218e25d",
   "metadata": {},
   "outputs": [
    {
     "ename": "NameError",
     "evalue": "name 'calculate_angle' is not defined",
     "output_type": "error",
     "traceback": [
      "\u001b[1;31m---------------------------------------------------------------------------\u001b[0m",
      "\u001b[1;31mNameError\u001b[0m                                 Traceback (most recent call last)",
      "Cell \u001b[1;32mIn[17], line 1\u001b[0m\n\u001b[1;32m----> 1\u001b[0m \u001b[43mcalculate_angle\u001b[49m(hand_ct_X_dis \u001b[38;5;241m/\u001b[39m np\u001b[38;5;241m.\u001b[39mlinalg\u001b[38;5;241m.\u001b[39mnorm(hand_ct_X_dis), ct_robot_x)  \u001b[38;5;66;03m# 验证的和规划的\u001b[39;00m\n",
      "\u001b[1;31mNameError\u001b[0m: name 'calculate_angle' is not defined"
     ]
    }
   ],
   "source": [
    "calculate_angle(hand_ct_X_dis, ct_robot_x)  # 验证的和规划的"
   ]
  },
  {
   "cell_type": "markdown",
   "id": "5e37b2a7",
   "metadata": {},
   "source": []
  }
 ],
 "metadata": {
  "kernelspec": {
   "display_name": "Python 3",
   "language": "python",
   "name": "python3"
  },
  "language_info": {
   "codemirror_mode": {
    "name": "ipython",
    "version": 3
   },
   "file_extension": ".py",
   "mimetype": "text/x-python",
   "name": "python",
   "nbconvert_exporter": "python",
   "pygments_lexer": "ipython3",
   "version": "3.8.10"
  }
 },
 "nbformat": 4,
 "nbformat_minor": 5
}
